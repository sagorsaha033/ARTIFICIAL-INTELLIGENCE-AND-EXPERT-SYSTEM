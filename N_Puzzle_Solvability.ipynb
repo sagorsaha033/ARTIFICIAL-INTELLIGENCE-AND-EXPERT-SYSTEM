{
  "cells": [
    {
      "cell_type": "markdown",
      "metadata": {
        "id": "nz8Q6nBSaf7k"
      },
      "source": [
        "###### To solve a puzzle, you are given an initial state and a goal state.\n",
        "###### Target is to reach goal state from initial state using puzzle rules.\n",
        "######  We can move blank tile only on left, right, up, and down\n",
        "![Capture.JPG](attachment:Capture.JPG)"
      ]
    },
    {
      "cell_type": "markdown",
      "metadata": {
        "id": "SaqziTVFaf7s"
      },
      "source": [
        "# Generate an intial state of NPuzzle"
      ]
    },
    {
      "cell_type": "code",
      "execution_count": null,
      "metadata": {
        "id": "Sy3Dl1NXLEPc"
      },
      "outputs": [],
      "source": [
        "import numpy as np\n",
        "import random\n",
        "import math"
      ]
    },
    {
      "cell_type": "code",
      "execution_count": null,
      "metadata": {
        "id": "iTX34gUNaf7t",
        "scrolled": true
      },
      "outputs": [],
      "source": [
        "def get_state():\n",
        "    N = random.choice([3,4,5])\n",
        "    state = [item for item in range(N*N)]# [0,1,2,...,15]\n",
        "    random.shuffle(state)\n",
        "    tmp = np.array(state)\n",
        "    print(tmp.reshape(N,N))\n",
        "    return state"
      ]
    },
    {
      "cell_type": "code",
      "execution_count": null,
      "metadata": {
        "colab": {
          "base_uri": "https://localhost:8080/"
        },
        "id": "CReZjpCvQakt",
        "outputId": "3b7187ed-42a2-4fa3-a7c8-a72dc76b1ebe"
      },
      "outputs": [
        {
          "output_type": "stream",
          "name": "stdout",
          "text": [
            "[[5 2 6]\n",
            " [3 7 1]\n",
            " [4 8 0]]\n"
          ]
        }
      ],
      "source": [
        "s = get_state()"
      ]
    },
    {
      "cell_type": "code",
      "execution_count": null,
      "metadata": {
        "id": "UePds4atNrz_"
      },
      "outputs": [],
      "source": [
        "def get_dim(s):\n",
        "  return int(math.sqrt(len(s)))"
      ]
    },
    {
      "cell_type": "code",
      "execution_count": null,
      "metadata": {
        "colab": {
          "base_uri": "https://localhost:8080/"
        },
        "id": "QKTU1E1Iaf7v",
        "outputId": "1214d2e2-5a73-4afc-8fcb-46a9634f10f6"
      },
      "outputs": [
        {
          "output_type": "stream",
          "name": "stdout",
          "text": [
            "[[13 20 11 23  3]\n",
            " [12 24 10  5  7]\n",
            " [19  2 21  8  9]\n",
            " [ 0 15 14 16 17]\n",
            " [ 4 18  6 22  1]]\n",
            "[13, 20, 11, 23, 3, 12, 24, 10, 5, 7, 19, 2, 21, 8, 9, 0, 15, 14, 16, 17, 4, 18, 6, 22, 1]\n",
            "Dimension: 5\n"
          ]
        }
      ],
      "source": [
        "s = get_state()\n",
        "print(s)\n",
        "print('Dimension:', get_dim(s))"
      ]
    },
    {
      "cell_type": "markdown",
      "metadata": {
        "id": "3hD4ieUaaf7x"
      },
      "source": [
        "# Calculate inversion"
      ]
    },
    {
      "cell_type": "markdown",
      "metadata": {
        "id": "CkoMv0C8af7y"
      },
      "source": [
        "Inversion is a pair of tiles that are in the reverse order from where they ought to be. In our case, the bigger number is in front of the smaller one.\n",
        "\n"
      ]
    },
    {
      "cell_type": "markdown",
      "metadata": {
        "id": "JcfDN45Caf7y"
      },
      "source": [
        "![Capture.JPG](attachment:Capture.JPG)"
      ]
    },
    {
      "cell_type": "code",
      "execution_count": null,
      "metadata": {
        "id": "-W9FOmneaf7z"
      },
      "outputs": [],
      "source": [
        "def get_invCount(s):\n",
        "    count = 0\n",
        "    for i in range(len(s)):\n",
        "        for j in range(i+1,len(s)):\n",
        "            if s[j]!=0 and s[i] > s[j]: count += 1\n",
        "    return count"
      ]
    },
    {
      "cell_type": "code",
      "execution_count": null,
      "metadata": {
        "colab": {
          "base_uri": "https://localhost:8080/"
        },
        "id": "sWAiuZfjaf71",
        "outputId": "7ee964b3-dadb-4928-f67f-e4093206d2e3"
      },
      "outputs": [
        {
          "output_type": "stream",
          "name": "stdout",
          "text": [
            "[[12 18  8  6  3]\n",
            " [ 5 19 11  0  1]\n",
            " [24  9 10 21 14]\n",
            " [ 2 22 16  4 13]\n",
            " [15 23  7 20 17]]\n",
            "[12, 18, 8, 6, 3, 5, 19, 11, 0, 1, 24, 9, 10, 21, 14, 2, 22, 16, 4, 13, 15, 23, 7, 20, 17]\n",
            "112\n"
          ]
        }
      ],
      "source": [
        "s = get_state()\n",
        "print(s)\n",
        "print(get_invCount(s))"
      ]
    },
    {
      "cell_type": "code",
      "execution_count": null,
      "metadata": {
        "colab": {
          "base_uri": "https://localhost:8080/"
        },
        "id": "znluowb7Jot_",
        "outputId": "2ada9127-eb6f-4dee-d369-214bc02cabc8"
      },
      "outputs": [
        {
          "output_type": "execute_result",
          "data": {
            "text/plain": [
              "8"
            ]
          },
          "metadata": {},
          "execution_count": 68
        }
      ],
      "source": [
        "s.index(0)"
      ]
    },
    {
      "cell_type": "markdown",
      "metadata": {
        "id": "EDn9_ODN1RFU"
      },
      "source": [
        "# **Find blank row**"
      ]
    },
    {
      "cell_type": "code",
      "execution_count": null,
      "metadata": {
        "colab": {
          "base_uri": "https://localhost:8080/"
        },
        "id": "R7-N-A6Oaf76",
        "outputId": "7e16d8a2-2bf9-418b-dbca-648ba47efa09"
      },
      "outputs": [
        {
          "output_type": "stream",
          "name": "stdout",
          "text": [
            "4\n"
          ]
        }
      ],
      "source": [
        "# find row position of the blank tile\n",
        "def get_blank_row(s):\n",
        "  # define here\n",
        " n = int(len(s) ** 0.5)\n",
        " for i in range(len(s)):\n",
        "  if s[i] == 0:\n",
        "    return n-(i//n)\n",
        "print(get_blank_row(s))\n",
        "\n"
      ]
    },
    {
      "cell_type": "markdown",
      "metadata": {
        "id": "8bTLG_ZQaf73"
      },
      "source": [
        "# Solvability Rules"
      ]
    },
    {
      "cell_type": "code",
      "execution_count": null,
      "metadata": {
        "colab": {
          "base_uri": "https://localhost:8080/"
        },
        "id": "0ciw2n-uaf77",
        "outputId": "1d1cb34d-ace9-463a-a7f9-acb4f29029b1"
      },
      "outputs": [
        {
          "output_type": "stream",
          "name": "stdout",
          "text": [
            "[[ 3 22  1 19 20]\n",
            " [14 12  8  6 13]\n",
            " [ 0 11  2  7  5]\n",
            " [ 4 21 17 16 18]\n",
            " [ 9 24 15 23 10]]\n",
            "State: [3, 22, 1, 19, 20, 14, 12, 8, 6, 13, 0, 11, 2, 7, 5, 4, 21, 17, 16, 18, 9, 24, 15, 23, 10]\n",
            "Solvability: None\n"
          ]
        }
      ],
      "source": [
        "# apply the rules to decide solvability\n",
        "#  N, I, R\n",
        "# define a method to return solvability (input S)\n",
        "# return True if solvable or False if not\n",
        "\n",
        "def isSolvable(state):\n",
        "  N = get_dim(state)\n",
        "  I = get_invCount(state)\n",
        "  R = get_blank_row(state)\n",
        "  # decide solvability\n",
        "  # check rules\n",
        "  def isSolvable(state):\n",
        "    N = get_dim(state)\n",
        "    I = get_invCount(state)\n",
        "    R = get_blank_row(state)\n",
        "\n",
        "    # If N is odd, the puzzle is solvable if I is even.\n",
        "    if N % 2 != 0:\n",
        "        return I % 2 == 0\n",
        "    else:\n",
        "        if R % 2 == 0:\n",
        "            return I % 2 != 0\n",
        "        else:\n",
        "            return I % 2 == 0\n",
        "\n",
        "# Example usage\n",
        "state = get_state()  # Generate or define a state\n",
        "print(f\"State: {state}\")\n",
        "print(f\"Solvability: {isSolvable(state)}\")\n",
        "\n"
      ]
    },
    {
      "cell_type": "code",
      "execution_count": null,
      "metadata": {
        "id": "u2TGpQfNhnP2",
        "colab": {
          "base_uri": "https://localhost:8080/"
        },
        "outputId": "206ce968-b18e-4d7f-85a3-4c4834e2f1d1"
      },
      "outputs": [
        {
          "output_type": "stream",
          "name": "stdout",
          "text": [
            "[[ 7  6  1 13]\n",
            " [15  8  2  9]\n",
            " [ 0 10 11  3]\n",
            " [ 5 14  4 12]]\n"
          ]
        }
      ],
      "source": [
        "s = get_state()\n",
        "isSolvable(s)\n"
      ]
    },
    {
      "cell_type": "code",
      "execution_count": null,
      "metadata": {
        "id": "tWVgVv0oTX2m",
        "colab": {
          "base_uri": "https://localhost:8080/"
        },
        "outputId": "97593367-a6b5-4a55-c777-9d4b25381d8d"
      },
      "outputs": [
        {
          "output_type": "stream",
          "name": "stdout",
          "text": [
            "[[1 2 3]\n",
            " [5 4 6]\n",
            " [0 8 7]]\n",
            "[1, 2, 3, 5, 4, 6, 0, 8, 7]\n"
          ]
        }
      ],
      "source": [
        "s = get_state()\n",
        "while(isSolvable(s)==False):\n",
        "  s = get_state()\n",
        "print(s)\n"
      ]
    }
  ],
  "metadata": {
    "colab": {
      "provenance": []
    },
    "kernelspec": {
      "display_name": "Python 3",
      "language": "python",
      "name": "python3"
    },
    "language_info": {
      "codemirror_mode": {
        "name": "ipython",
        "version": 3
      },
      "file_extension": ".py",
      "mimetype": "text/x-python",
      "name": "python",
      "nbconvert_exporter": "python",
      "pygments_lexer": "ipython3",
      "version": "3.8.5"
    }
  },
  "nbformat": 4,
  "nbformat_minor": 0
}